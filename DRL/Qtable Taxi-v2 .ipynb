{
 "cells": [
  {
   "cell_type": "markdown",
   "metadata": {},
   "source": [
    "# Q Learning the Taxi-v2 environment\n",
    "> Q Table actually, me a noob"
   ]
  },
  {
   "cell_type": "code",
   "execution_count": 2,
   "metadata": {},
   "outputs": [
    {
     "name": "stdout",
     "output_type": "stream",
     "text": [
      "+---------+\n",
      "|\u001b[34;1mR\u001b[0m: | : :G|\n",
      "| : :\u001b[43m \u001b[0m: : |\n",
      "| : : : : |\n",
      "| | : | : |\n",
      "|Y| : |\u001b[35mB\u001b[0m: |\n",
      "+---------+\n",
      "\n"
     ]
    }
   ],
   "source": [
    "import numpy as np\n",
    "import gym\n",
    "import random \n",
    "\n",
    "env = gym.make('Taxi-v2')\n",
    "env.render()"
   ]
  },
  {
   "cell_type": "code",
   "execution_count": 4,
   "metadata": {},
   "outputs": [
    {
     "name": "stdout",
     "output_type": "stream",
     "text": [
      "Discrete(6)\n",
      "Discrete(500)\n"
     ]
    }
   ],
   "source": [
    "print(env.action_space)\n",
    "print(env.observation_space)"
   ]
  },
  {
   "cell_type": "code",
   "execution_count": 7,
   "metadata": {},
   "outputs": [
    {
     "name": "stdout",
     "output_type": "stream",
     "text": [
      "[[0. 0. 0. 0. 0. 0.]\n",
      " [0. 0. 0. 0. 0. 0.]\n",
      " [0. 0. 0. 0. 0. 0.]\n",
      " ...\n",
      " [0. 0. 0. 0. 0. 0.]\n",
      " [0. 0. 0. 0. 0. 0.]\n",
      " [0. 0. 0. 0. 0. 0.]]\n"
     ]
    }
   ],
   "source": [
    "#Initialize Q-table with zeros. States as rows, action as cols\n",
    "qtable = np.zeros((env.observation_space.n, env.action_space.n)) \n",
    "print(qtable)"
   ]
  },
  {
   "cell_type": "code",
   "execution_count": 8,
   "metadata": {},
   "outputs": [],
   "source": [
    "total_episodes = 50000\n",
    "total_test_episodes = 100\n",
    "max_steps = 99\n",
    "\n",
    "learning_rate = 0.7\n",
    "gamma = 0.618\n",
    "\n",
    "epsilon = 1  #epsilon exploration criterion\n",
    "max_epsilon= 1.0\n",
    "min_epsilon = 0.01\n",
    "decay_rate = 0.01\n",
    "#Need to decay epsilon as we need a higher exploration rate at the beginning"
   ]
  },
  {
   "cell_type": "markdown",
   "metadata": {},
   "source": [
    "### Q learning alg"
   ]
  },
  {
   "cell_type": "code",
   "execution_count": 27,
   "metadata": {},
   "outputs": [],
   "source": [
    "for episode in range(total_episodes):\n",
    "    state = env.reset()\n",
    "    step = 0\n",
    "    done = False\n",
    "    \n",
    "    for step in range(max_steps):\n",
    "        if random.uniform(0, 1) > epsilon:\n",
    "            action = np.argmax(qtable[state, :])\n",
    "        else:\n",
    "            action = env.action_space.sample()  #random action with probability epsilon\n",
    "        \n",
    "        new_state, reward, done, info = env.step(action)\n",
    "        #Q(s, a) = Q(s, a) + lr*[R(s, a) + y*maxQ(s', a') - Q(s, a)]\n",
    "        qtable[state, action] = qtable[state, action] + learning_rate * (reward + gamma * \n",
    "                                    np.max(qtable[new_state, :]) - qtable[state, action]) \n",
    "    \n",
    "        state = new_state\n",
    "        if done == True:\n",
    "            break\n",
    "    \n",
    "    epsilon = min_epsilon + (max_epsilon - min_epsilon)*np.exp(-decay_rate*episode)\n"
   ]
  },
  {
   "cell_type": "markdown",
   "metadata": {},
   "source": [
    "### Play "
   ]
  },
  {
   "cell_type": "code",
   "execution_count": 28,
   "metadata": {},
   "outputs": [
    {
     "name": "stdout",
     "output_type": "stream",
     "text": [
      "Score for this episode:  -99\n",
      "Score for this episode:  -99\n",
      "Score for this episode:  -99\n",
      "Score for this episode:  -99\n",
      "Score for this episode:  7\n",
      "Score for this episode:  -99\n",
      "Score for this episode:  -99\n",
      "Score for this episode:  8\n",
      "Score for this episode:  -99\n",
      "Score for this episode:  10\n",
      "Score for this episode:  11\n",
      "Score for this episode:  6\n",
      "Score for this episode:  13\n",
      "Score for this episode:  -99\n",
      "Score for this episode:  -99\n",
      "Score for this episode:  9\n",
      "Score for this episode:  12\n",
      "Score for this episode:  7\n",
      "Score for this episode:  -99\n",
      "Score for this episode:  8\n",
      "Score for this episode:  4\n",
      "Score for this episode:  -99\n",
      "Score for this episode:  -99\n",
      "Score for this episode:  -99\n",
      "Score for this episode:  8\n",
      "Score for this episode:  -99\n",
      "Score for this episode:  -99\n",
      "Score for this episode:  14\n",
      "Score for this episode:  8\n",
      "Score for this episode:  10\n",
      "Score for this episode:  11\n",
      "Score for this episode:  -99\n",
      "Score for this episode:  -99\n",
      "Score for this episode:  8\n",
      "Score for this episode:  8\n",
      "Score for this episode:  8\n",
      "Score for this episode:  9\n",
      "Score for this episode:  -99\n",
      "Score for this episode:  7\n",
      "Score for this episode:  9\n",
      "Score for this episode:  -99\n",
      "Score for this episode:  -99\n",
      "Score for this episode:  -99\n",
      "Score for this episode:  -99\n",
      "Score for this episode:  -99\n",
      "Score for this episode:  -99\n",
      "Score for this episode:  -99\n",
      "Score for this episode:  -99\n",
      "Score for this episode:  11\n",
      "Score for this episode:  12\n",
      "Score for this episode:  10\n",
      "Score for this episode:  -99\n",
      "Score for this episode:  -99\n",
      "Score for this episode:  9\n",
      "Score for this episode:  -99\n",
      "Score for this episode:  -99\n",
      "Score for this episode:  -99\n",
      "Score for this episode:  -99\n",
      "Score for this episode:  -99\n",
      "Score for this episode:  -99\n",
      "Score for this episode:  11\n",
      "Score for this episode:  12\n",
      "Score for this episode:  -99\n",
      "Score for this episode:  5\n",
      "Score for this episode:  -99\n",
      "Score for this episode:  -99\n",
      "Score for this episode:  9\n",
      "Score for this episode:  -99\n",
      "Score for this episode:  5\n",
      "Score for this episode:  -99\n",
      "Score for this episode:  -99\n",
      "Score for this episode:  -99\n",
      "Score for this episode:  12\n",
      "Score for this episode:  -99\n",
      "Score for this episode:  10\n",
      "Score for this episode:  -99\n",
      "Score for this episode:  -99\n",
      "Score for this episode:  -99\n",
      "Score for this episode:  9\n",
      "Score for this episode:  -99\n",
      "Score for this episode:  6\n",
      "Score for this episode:  -99\n",
      "Score for this episode:  5\n",
      "Score for this episode:  -99\n",
      "Score for this episode:  -99\n",
      "Score for this episode:  5\n",
      "Score for this episode:  6\n",
      "Score for this episode:  -99\n",
      "Score for this episode:  -99\n",
      "Score for this episode:  10\n",
      "Score for this episode:  10\n",
      "Score for this episode:  -99\n",
      "Score for this episode:  5\n",
      "Score for this episode:  -99\n",
      "Score for this episode:  5\n",
      "Score for this episode:  12\n",
      "Score for this episode:  6\n",
      "Score for this episode:  7\n",
      "Score for this episode:  11\n",
      "Score for this episode:  6\n",
      "Score over time: 4.04\n"
     ]
    }
   ],
   "source": [
    "env.reset()\n",
    "rewards = []\n",
    "\n",
    "for episode in range(total_test_episodes):  #100\n",
    "    state = env.reset()\n",
    "    step = 0\n",
    "    done = False\n",
    "    total_rewards = 0\n",
    "    \n",
    "    for step in range(max_steps):\n",
    "        #env.render()\n",
    "        action = np.argmax(qtable[state, :])  #alredy learnt, so just exploit\n",
    "        new_state, reward, done, _ = env.step(action)\n",
    "        \n",
    "        total_rewards += reward\n",
    "        \n",
    "        if done:\n",
    "            rewards.append(total_rewards)\n",
    "            break\n",
    "        state = new_state\n",
    "    print(\"Score for this episode: \", total_rewards)\n",
    "env.close()\n",
    "print(\"Score over time: \" + str(sum(rewards)/total_test_episodes))   #average score over 100 eps\n",
    "        "
   ]
  },
  {
   "cell_type": "code",
   "execution_count": 22,
   "metadata": {},
   "outputs": [
    {
     "data": {
      "text/plain": [
       "array([[  0.        ,   0.        ,   0.        ,   0.        ,\n",
       "          0.        ,   0.        ],\n",
       "       [ -2.61780105,  -2.61780105,  -2.61780105,  -2.61780105,\n",
       "         -2.61780105, -11.61646471],\n",
       "       [ -2.61780105,  -2.61780105,  -2.61780105,  -2.61780105,\n",
       "         -2.61780105, -11.61540962],\n",
       "       ...,\n",
       "       [ -2.61780105,  -2.61780105,  -2.61780105,  -2.61780105,\n",
       "        -11.61776364, -11.61780088],\n",
       "       [ -2.61780105,  -2.61780105,  -2.61780105,  -2.61780105,\n",
       "        -11.61779134, -11.61664061],\n",
       "       [ -2.58422161,  -2.58789857,  -2.57196507,  -2.57196507,\n",
       "         -7.        ,  -7.        ]])"
      ]
     },
     "execution_count": 22,
     "metadata": {},
     "output_type": "execute_result"
    }
   ],
   "source": [
    "qtable"
   ]
  },
  {
   "cell_type": "code",
   "execution_count": 23,
   "metadata": {},
   "outputs": [],
   "source": []
  },
  {
   "cell_type": "code",
   "execution_count": null,
   "metadata": {},
   "outputs": [],
   "source": []
  },
  {
   "cell_type": "code",
   "execution_count": null,
   "metadata": {},
   "outputs": [],
   "source": []
  },
  {
   "cell_type": "code",
   "execution_count": null,
   "metadata": {},
   "outputs": [],
   "source": []
  },
  {
   "cell_type": "code",
   "execution_count": null,
   "metadata": {},
   "outputs": [],
   "source": []
  }
 ],
 "metadata": {
  "kernelspec": {
   "display_name": "Python 3",
   "language": "python",
   "name": "python3"
  },
  "language_info": {
   "codemirror_mode": {
    "name": "ipython",
    "version": 3
   },
   "file_extension": ".py",
   "mimetype": "text/x-python",
   "name": "python",
   "nbconvert_exporter": "python",
   "pygments_lexer": "ipython3",
   "version": "3.6.8"
  }
 },
 "nbformat": 4,
 "nbformat_minor": 2
}
