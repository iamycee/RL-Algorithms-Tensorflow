{
 "cells": [
  {
   "cell_type": "code",
   "execution_count": 3,
   "metadata": {},
   "outputs": [],
   "source": [
    "import numpy as np\n",
    "import tensorflow as tf\n",
    "import tensorflow.contrib.slim as slim  #high level library"
   ]
  },
  {
   "cell_type": "markdown",
   "metadata": {},
   "source": [
    "## Bandit\n",
    "Four armed bandit. Lower the bandit number, higher the chance of positive reward"
   ]
  },
  {
   "cell_type": "code",
   "execution_count": 2,
   "metadata": {},
   "outputs": [],
   "source": [
    "bandit_arms = [0.2, 0, -0.2, -2] #arm number 4 i.e index 3 will give the most reward\n",
    "num_arms = len(bandit_arms)\n",
    "\n",
    "def pullBandit(bandit):\n",
    "    result = np.random.randn(1)\n",
    "    if result > bandit:    #lower arm number, higher chance of reward\n",
    "        return 1\n",
    "    else:\n",
    "        return -1"
   ]
  },
  {
   "cell_type": "code",
   "execution_count": 7,
   "metadata": {},
   "outputs": [],
   "source": [
    "tf.reset_default_graph()\n",
    "\n",
    "weights = tf.Variable(tf.ones([num_arms]))\n",
    "output = tf.nn.softmax(weights)\n",
    "\n",
    "reward_holder = tf.placeholder(shape=[1], dtype=tf.float32)\n",
    "action_holder = tf.placeholder(shape=[1], dtype=tf.int32)\n",
    "\n",
    "responsible_output = tf.slice(output, action_holder, [1])\n",
    "loss = -(tf.log(responsible_output)*reward_holder)\n",
    "optimizer = tf.train.AdamOptimizer(learning_rate=1e-3)\n",
    "update = optimizer.minimize(loss)\n",
    "\n"
   ]
  },
  {
   "cell_type": "markdown",
   "metadata": {},
   "source": [
    "## Training the agent"
   ]
  },
  {
   "cell_type": "code",
   "execution_count": 10,
   "metadata": {},
   "outputs": [
    {
     "name": "stdout",
     "output_type": "stream",
     "text": [
      "Running reward for the 4 arms of the bandit: [-1.  0.  0.  0.]\n",
      "Running reward for the 4 arms of the bandit: [-1. -1. -1. 48.]\n",
      "Running reward for the 4 arms of the bandit: [-1. -1. -1. 98.]\n",
      "Running reward for the 4 arms of the bandit: [ -1.  -1.  -1. 148.]\n",
      "Running reward for the 4 arms of the bandit: [ -1.  -1.  -1. 196.]\n",
      "Running reward for the 4 arms of the bandit: [ -1.  -1.  -1. 244.]\n",
      "Running reward for the 4 arms of the bandit: [ -1.  -1.  -1. 294.]\n",
      "Running reward for the 4 arms of the bandit: [ -1.  -1.  -1. 340.]\n",
      "Running reward for the 4 arms of the bandit: [ -1.  -1.  -1. 388.]\n",
      "Running reward for the 4 arms of the bandit: [ -1.  -1.  -1. 436.]\n",
      "Running reward for the 4 arms of the bandit: [ -1.  -1.  -1. 480.]\n",
      "Running reward for the 4 arms of the bandit: [ -1.  -1.  -1. 530.]\n",
      "Running reward for the 4 arms of the bandit: [ -1.  -1.  -1. 580.]\n",
      "Running reward for the 4 arms of the bandit: [ -1.  -1.  -1. 630.]\n",
      "Running reward for the 4 arms of the bandit: [ -1.  -1.  -1. 676.]\n",
      "Running reward for the 4 arms of the bandit: [ -1.  -1.  -1. 720.]\n",
      "Running reward for the 4 arms of the bandit: [ -1.  -1.  -1. 770.]\n",
      "Running reward for the 4 arms of the bandit: [ -1.  -1.  -1. 814.]\n",
      "Running reward for the 4 arms of the bandit: [ -1.  -1.  -1. 860.]\n",
      "Running reward for the 4 arms of the bandit: [ -1.  -1.  -1. 910.]\n",
      "\n",
      "The agent thinks arm 4 is the most promising....\n",
      "...and it was right!\n"
     ]
    }
   ],
   "source": [
    "total_episodes = 1000\n",
    "total_reward = np.zeros(num_arms)\n",
    "\n",
    "init = tf.global_variables_initializer()\n",
    "\n",
    "with tf.Session() as sess:\n",
    "    sess.run(init)\n",
    "    i = 0\n",
    "    while i < total_episodes:\n",
    "        #Choose actions according to Boltzmann distribution\n",
    "        actions = sess.run(output)   #action is the bandit arm to pull\n",
    "        a = np.random.choice(actions, p=actions)\n",
    "        action = np.argmax(actions)\n",
    "        \n",
    "        reward = pullBandit(bandit_arms[action])\n",
    "        _, resp, ww = sess.run([update, responsible_output, weights], feed_dict={reward_holder:[reward], action_holder: [action]})\n",
    "        \n",
    "        total_reward[action] += reward\n",
    "        \n",
    "        if i % 50 == 0:\n",
    "            print(\"Running reward for the \" + str(num_arms) + \" arms of the bandit: \" + str(total_reward))\n",
    "        i += 1\n",
    "        \n",
    "print(\"\\nThe agent thinks arm \" + str(np.argmax(ww)+1) + \" is the most promising....\")\n",
    "if np.argmax(ww) == np.argmax(-np.array(bandit_arms)):\n",
    "    print(\"...and it was RIGHT!\")\n",
    "else:\n",
    "    print(\"...and it was WRONG!\")\n",
    "\n"
   ]
  },
  {
   "cell_type": "markdown",
   "metadata": {},
   "source": [
    "# Contextual bandits\n",
    " Here we introduce the concept of a state. There will be 3 four-armed bandits with the same set of actions. The different bandits indicate different states."
   ]
  },
  {
   "cell_type": "code",
   "execution_count": 4,
   "metadata": {},
   "outputs": [],
   "source": [
    "class contextual_bandit():\n",
    "    def __init__(self):\n",
    "        self.state = 0\n",
    "        #List out our bandits. Arms 4, 2, 1 are the most optimal\n",
    "        self.bandits = np.array([[0.2, 0, -0.0, -5], [0.1, -5, 1, 0.25], [-5, 5, 5, 5]])\n",
    "        self.num_bandits = self.bandits.shape[0]\n",
    "        self.num_actions = self.bandits.shape[1]\n",
    "        \n",
    "    def getBandit(self):\n",
    "        self.state = np.random.randint(0, len(self.bandits))   #returns a random bandit aka random state\n",
    "        return self.state\n",
    "    \n",
    "    def pullArm(self, action):\n",
    "        bandit = self.bandits[self.state, action]\n",
    "        result = np.random.randn(1)\n",
    "        if result > bandit:\n",
    "            return 1\n",
    "        else:\n",
    "            return -1"
   ]
  },
  {
   "cell_type": "markdown",
   "metadata": {},
   "source": [
    "### Agent \n",
    "State as input, action as output"
   ]
  },
  {
   "cell_type": "code",
   "execution_count": 6,
   "metadata": {},
   "outputs": [],
   "source": [
    "class agent():\n",
    "    def __init__(self, lr, s_size, a_size):\n",
    "        #These lines establish the feedforward part of the network\n",
    "        \n",
    "        self.state_in = tf.placeholder(shape=[1], dtype=tf.int32)\n",
    "        state_in_OH = slim.one_hot_encoding(self.state_in, s_size)\n",
    "        output = slim.fully_connected(state_in_OH, a_size, biases_initializer=None, \\\n",
    "                                     activation_fn=tf.nn.sigmoid, weights_initializer=tf.ones_initializer())\n",
    "        self.output = tf.reshape(output, [-1])\n",
    "        self.chosen_action = tf.argmax(self.output, 0)\n",
    "        \n",
    "        #training\n",
    "        self.reward_holder = tf.placeholder(shape=[1], dtype=tf.float32)\n",
    "        self.action_holder = tf.placeholder(shape=[1], dtype=tf.int32)\n",
    "        self.responsible_weight = tf.slice(self.output, self.action_holder, [1])\n",
    "        self.loss = -(tf.log(self.responsible_weight)*self.reward_holder)\n",
    "        optimizer = tf.train.GradientDescentOptimizer(learning_rate=lr)\n",
    "        self.update = optimizer.minimize(self.loss)\n",
    "        \n"
   ]
  },
  {
   "cell_type": "markdown",
   "metadata": {},
   "source": [
    "### Training the agent"
   ]
  },
  {
   "cell_type": "code",
   "execution_count": 13,
   "metadata": {},
   "outputs": [
    {
     "name": "stdout",
     "output_type": "stream",
     "text": [
      "Mean reward for each of the 3 bandits: [0.   0.   0.25]\n",
      "Mean reward for each of the 3 bandits: [35.5  38.   32.25]\n",
      "Mean reward for each of the 3 bandits: [72.25 79.25 66.25]\n",
      "Mean reward for each of the 3 bandits: [107.25 117.5  106.  ]\n",
      "Mean reward for each of the 3 bandits: [143.75 151.75 146.25]\n",
      "Mean reward for each of the 3 bandits: [182.5  191.25 179.5 ]\n",
      "Mean reward for each of the 3 bandits: [222.5  226.75 213.  ]\n",
      "Mean reward for each of the 3 bandits: [259.75 263.25 248.75]\n",
      "Mean reward for each of the 3 bandits: [294.75 302.   282.5 ]\n",
      "Mean reward for each of the 3 bandits: [334.   336.75 317.  ]\n",
      "Mean reward for each of the 3 bandits: [373.   371.5  354.75]\n",
      "Mean reward for each of the 3 bandits: [410.25 408.   391.  ]\n",
      "Mean reward for each of the 3 bandits: [444.   445.75 429.  ]\n",
      "Mean reward for each of the 3 bandits: [481.25 486.   465.  ]\n",
      "Mean reward for each of the 3 bandits: [520.75 526.5  497.5 ]\n",
      "Mean reward for each of the 3 bandits: [557.5  559.25 534.5 ]\n",
      "Mean reward for each of the 3 bandits: [594.   590.   577.25]\n",
      "Mean reward for each of the 3 bandits: [632.25 622.25 618.75]\n",
      "Mean reward for each of the 3 bandits: [670.5  658.75 656.5 ]\n",
      "Mean reward for each of the 3 bandits: [704.25 696.5  696.  ]\n",
      "The agent thinks action 4 for bandit 1 is the most promising....\n",
      "...and it was RIGHT!\n",
      "The agent thinks action 2 for bandit 2 is the most promising....\n",
      "...and it was RIGHT!\n",
      "The agent thinks action 1 for bandit 3 is the most promising....\n",
      "...and it was RIGHT!\n"
     ]
    }
   ],
   "source": [
    "tf.reset_default_graph()\n",
    "\n",
    "cBandit = contextual_bandit() #Load the bandits\n",
    "myAgent = agent(lr=0.001, s_size=cBandit.num_bandits, a_size=cBandit.num_actions)\n",
    "weights = tf.trainable_variables()[0]\n",
    "\n",
    "total_episodes= 10000\n",
    "total_reward = np.zeros([cBandit.num_bandits, cBandit.num_actions])\n",
    "e= 0.1\n",
    "init = tf.global_variables_initializer()\n",
    "\n",
    "with tf.Session() as sess:\n",
    "    sess.run(init)\n",
    "    i = 0\n",
    "    while i < total_episodes:\n",
    "\n",
    "        s = cBandit.getBandit() #get a state\n",
    "\n",
    "        if np.random.rand(1) < e:\n",
    "            action = np.random.randint(cBandit.num_actions)\n",
    "        else:\n",
    "            action = sess.run(myAgent.chosen_action, feed_dict={myAgent.state_in:[s]})\n",
    "        reward = cBandit.pullArm(action)\n",
    "\n",
    "        feed_dict = {myAgent.reward_holder:[reward], myAgent.action_holder:[action], myAgent.state_in:[s]}\n",
    "        _, ww = sess.run([myAgent.update, weights], feed_dict=feed_dict)\n",
    "\n",
    "        total_reward[s, action] += reward\n",
    "\n",
    "        if i % 500 == 0:\n",
    "            print(\"Mean reward for each of the \" + str(cBandit.num_bandits) + \" bandits: \" + str(np.mean(total_reward,axis=1)))\n",
    "        i+=1\n",
    "\n",
    "    for a in range(cBandit.num_bandits):\n",
    "        print(\"The agent thinks action \" + str(np.argmax(ww[a])+1) + \" for bandit \" + str(a+1) + \" is the most promising....\")\n",
    "        if np.argmax(ww[a]) == np.argmin(cBandit.bandits[a]):\n",
    "            print(\"...and it was RIGHT!\")\n",
    "        else:\n",
    "            print(\"...and it was WRONG!\")\n",
    "\n"
   ]
  },
  {
   "cell_type": "code",
   "execution_count": null,
   "metadata": {},
   "outputs": [],
   "source": []
  },
  {
   "cell_type": "code",
   "execution_count": null,
   "metadata": {},
   "outputs": [],
   "source": []
  },
  {
   "cell_type": "code",
   "execution_count": null,
   "metadata": {},
   "outputs": [],
   "source": []
  },
  {
   "cell_type": "code",
   "execution_count": null,
   "metadata": {},
   "outputs": [],
   "source": []
  }
 ],
 "metadata": {
  "kernelspec": {
   "display_name": "Python 3",
   "language": "python",
   "name": "python3"
  },
  "language_info": {
   "codemirror_mode": {
    "name": "ipython",
    "version": 3
   },
   "file_extension": ".py",
   "mimetype": "text/x-python",
   "name": "python",
   "nbconvert_exporter": "python",
   "pygments_lexer": "ipython3",
   "version": "3.6.7"
  }
 },
 "nbformat": 4,
 "nbformat_minor": 2
}
