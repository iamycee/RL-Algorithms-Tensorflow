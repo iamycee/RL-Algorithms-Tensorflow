{
 "cells": [
  {
   "cell_type": "code",
   "execution_count": 1,
   "metadata": {},
   "outputs": [],
   "source": [
    "import numpy as np\n",
    "import tensorflow as tf\n",
    "import tensorflow.contrib.slim as slim  #high level library"
   ]
  },
  {
   "cell_type": "markdown",
   "metadata": {},
   "source": [
    "## Bandit\n",
    "Four armed bandit. Lower the bandit number, higher the chance of positive reward"
   ]
  },
  {
   "cell_type": "code",
   "execution_count": 2,
   "metadata": {},
   "outputs": [],
   "source": [
    "bandit_arms = [0.2, 0, -0.2, -2] #arm number 4 i.e index 3 will give the most reward\n",
    "num_arms = len(bandit_arms)\n",
    "\n",
    "def pullBandit(bandit):\n",
    "    result = np.random.randn(1)\n",
    "    if result > bandit:\n",
    "        return 1\n",
    "    else:\n",
    "        return -1"
   ]
  },
  {
   "cell_type": "code",
   "execution_count": 7,
   "metadata": {},
   "outputs": [],
   "source": [
    "tf.reset_default_graph()\n",
    "\n",
    "weights = tf.Variable(tf.ones([num_arms]))\n",
    "output = tf.nn.softmax(weights)\n",
    "\n",
    "reward_holder = tf.placeholder(shape=[1], dtype=tf.float32)\n",
    "action_holder = tf.placeholder(shape=[1], dtype=tf.int32)\n",
    "\n",
    "responsible_output = tf.slice(output, action_holder, [1])\n",
    "loss = -(tf.log(responsible_output)*reward_holder)\n",
    "optimizer = tf.train.AdamOptimizer(learning_rate=1e-3)\n",
    "update = optimizer.minimize(loss)\n",
    "\n"
   ]
  },
  {
   "cell_type": "markdown",
   "metadata": {},
   "source": [
    "## Training the agent"
   ]
  },
  {
   "cell_type": "code",
   "execution_count": 10,
   "metadata": {},
   "outputs": [
    {
     "name": "stdout",
     "output_type": "stream",
     "text": [
      "Running reward for the 4 arms of the bandit: [-1.  0.  0.  0.]\n",
      "Running reward for the 4 arms of the bandit: [-1. -1. -1. 48.]\n",
      "Running reward for the 4 arms of the bandit: [-1. -1. -1. 98.]\n",
      "Running reward for the 4 arms of the bandit: [ -1.  -1.  -1. 148.]\n",
      "Running reward for the 4 arms of the bandit: [ -1.  -1.  -1. 196.]\n",
      "Running reward for the 4 arms of the bandit: [ -1.  -1.  -1. 244.]\n",
      "Running reward for the 4 arms of the bandit: [ -1.  -1.  -1. 294.]\n",
      "Running reward for the 4 arms of the bandit: [ -1.  -1.  -1. 340.]\n",
      "Running reward for the 4 arms of the bandit: [ -1.  -1.  -1. 388.]\n",
      "Running reward for the 4 arms of the bandit: [ -1.  -1.  -1. 436.]\n",
      "Running reward for the 4 arms of the bandit: [ -1.  -1.  -1. 480.]\n",
      "Running reward for the 4 arms of the bandit: [ -1.  -1.  -1. 530.]\n",
      "Running reward for the 4 arms of the bandit: [ -1.  -1.  -1. 580.]\n",
      "Running reward for the 4 arms of the bandit: [ -1.  -1.  -1. 630.]\n",
      "Running reward for the 4 arms of the bandit: [ -1.  -1.  -1. 676.]\n",
      "Running reward for the 4 arms of the bandit: [ -1.  -1.  -1. 720.]\n",
      "Running reward for the 4 arms of the bandit: [ -1.  -1.  -1. 770.]\n",
      "Running reward for the 4 arms of the bandit: [ -1.  -1.  -1. 814.]\n",
      "Running reward for the 4 arms of the bandit: [ -1.  -1.  -1. 860.]\n",
      "Running reward for the 4 arms of the bandit: [ -1.  -1.  -1. 910.]\n",
      "\n",
      "The agent thinks arm 4 is the most promising....\n",
      "...and it was right!\n"
     ]
    }
   ],
   "source": [
    "total_episodes = 1000\n",
    "total_reward = np.zeros(num_arms)\n",
    "\n",
    "init = tf.global_variables_initializer()\n",
    "\n",
    "with tf.Session() as sess:\n",
    "    sess.run(init)\n",
    "    i = 0\n",
    "    while i < total_episodes:\n",
    "        #Choose actions according to Boltzmann distribution\n",
    "        actions = sess.run(output)   #action is the bandit arm to pull\n",
    "        a = np.random.choice(actions, p=actions)\n",
    "        action = np.argmax(actions)\n",
    "        \n",
    "        reward = pullBandit(bandit_arms[action])\n",
    "        _, resp, ww = sess.run([update, responsible_output, weights], feed_dict={reward_holder:[reward], action_holder: [action]})\n",
    "        \n",
    "        total_reward[action] += reward\n",
    "        \n",
    "        if i % 50 == 0:\n",
    "            print(\"Running reward for the \" + str(num_arms) + \" arms of the bandit: \" + str(total_reward))\n",
    "        i += 1\n",
    "        \n",
    "print(\"\\nThe agent thinks arm \" + str(np.argmax(ww)+1) + \" is the most promising....\")\n",
    "if np.argmax(ww) == np.argmax(-np.array(bandit_arms)):\n",
    "    print(\"...and it was RIGHT!\")\n",
    "else:\n",
    "    print(\"...and it was WRONG!\")\n",
    "\n"
   ]
  },
  {
   "cell_type": "markdown",
   "metadata": {},
   "source": [
    "# Contextual bandits"
   ]
  },
  {
   "cell_type": "code",
   "execution_count": null,
   "metadata": {},
   "outputs": [],
   "source": []
  }
 ],
 "metadata": {
  "kernelspec": {
   "display_name": "Python 3",
   "language": "python",
   "name": "python3"
  },
  "language_info": {
   "codemirror_mode": {
    "name": "ipython",
    "version": 3
   },
   "file_extension": ".py",
   "mimetype": "text/x-python",
   "name": "python",
   "nbconvert_exporter": "python",
   "pygments_lexer": "ipython3",
   "version": "3.6.7"
  }
 },
 "nbformat": 4,
 "nbformat_minor": 2
}
